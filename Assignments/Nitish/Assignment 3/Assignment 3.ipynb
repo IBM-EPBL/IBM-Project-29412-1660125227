{
  "nbformat": 4,
  "nbformat_minor": 0,
  "metadata": {
    "colab": {
      "provenance": []
    },
    "kernelspec": {
      "name": "python3",
      "display_name": "Python 3"
    },
    "language_info": {
      "name": "python"
    }
  },
  "cells": [
    {
      "cell_type": "markdown",
      "source": [
        "# **Download the Dataset**"
      ],
      "metadata": {
        "id": "9I6A0QSBCgSz"
      }
    },
    {
      "cell_type": "code",
      "execution_count": 2,
      "metadata": {
        "colab": {
          "base_uri": "https://localhost:8080/"
        },
        "id": "_IVCgPoACAx_",
        "outputId": "393b7382-e3de-48ae-80ac-06f67331651b"
      },
      "outputs": [
        {
          "output_type": "stream",
          "name": "stdout",
          "text": [
            "Mounted at /content/drive\n"
          ]
        }
      ],
      "source": [
        "from google.colab import drive\n",
        "drive.mount('/content/drive')"
      ]
    },
    {
      "cell_type": "code",
      "source": [
        "cd/content/drive/MyDrive"
      ],
      "metadata": {
        "colab": {
          "base_uri": "https://localhost:8080/"
        },
        "id": "4mLH3V4LCY3H",
        "outputId": "b754d41e-0edf-4a6e-e6e3-2e91f440553e"
      },
      "execution_count": 3,
      "outputs": [
        {
          "output_type": "stream",
          "name": "stdout",
          "text": [
            "/content/drive/MyDrive\n"
          ]
        }
      ]
    },
    {
      "cell_type": "code",
      "source": [
        "!unzip Flowers-Dataset.zip"
      ],
      "metadata": {
        "id": "pm-kUE7VCakN"
      },
      "execution_count": null,
      "outputs": []
    },
    {
      "cell_type": "markdown",
      "source": [
        "# **Image Augmentation**"
      ],
      "metadata": {
        "id": "bRY1RvaTCd-p"
      }
    },
    {
      "cell_type": "code",
      "source": [
        "from tensorflow.keras.models import Sequential\n",
        "from tensorflow.keras.layers import Convolution2D,MaxPooling2D,Flatten,Dense"
      ],
      "metadata": {
        "id": "6Y64i2geCtqD"
      },
      "execution_count": 5,
      "outputs": []
    },
    {
      "cell_type": "code",
      "source": [
        "from tensorflow.keras.preprocessing.image import ImageDataGenerator"
      ],
      "metadata": {
        "id": "rQa0Pt03CwI6"
      },
      "execution_count": 9,
      "outputs": []
    },
    {
      "cell_type": "code",
      "source": [
        "train_datagen = ImageDataGenerator(rescale=1./255,shear_range=0.2,zoom_range=0.2,horizontal_flip=True,vertical_flip=True)\n"
      ],
      "metadata": {
        "id": "YTIvEIkuCxq5"
      },
      "execution_count": 10,
      "outputs": []
    },
    {
      "cell_type": "code",
      "source": [
        "test_datagen=ImageDataGenerator(rescale=1./255)"
      ],
      "metadata": {
        "id": "kAZKUYM-C50O"
      },
      "execution_count": 11,
      "outputs": []
    },
    {
      "cell_type": "code",
      "source": [
        "x_train = train_datagen.flow_from_directory(r\"/content/drive/MyDrive/flowers\",target_size=(64,64),batch_size=32,class_mode=\"categorical\")"
      ],
      "metadata": {
        "colab": {
          "base_uri": "https://localhost:8080/"
        },
        "id": "1UJvAYzPC8Xm",
        "outputId": "1cfefcc4-b6c7-49f3-9a15-16fff02cfffc"
      },
      "execution_count": 12,
      "outputs": [
        {
          "output_type": "stream",
          "name": "stdout",
          "text": [
            "Found 4317 images belonging to 5 classes.\n"
          ]
        }
      ]
    },
    {
      "cell_type": "code",
      "source": [
        "x_test = test_datagen.flow_from_directory(r\"/content/drive/MyDrive/flowers\",target_size=(64,64),batch_size=32,class_mode=\"categorical\")"
      ],
      "metadata": {
        "colab": {
          "base_uri": "https://localhost:8080/"
        },
        "id": "2w871sSmC-YO",
        "outputId": "28abac82-0cf8-4e54-96e4-d652a5e9eec1"
      },
      "execution_count": 13,
      "outputs": [
        {
          "output_type": "stream",
          "name": "stdout",
          "text": [
            "Found 4317 images belonging to 5 classes.\n"
          ]
        }
      ]
    },
    {
      "cell_type": "code",
      "source": [
        "x_train.class_indices"
      ],
      "metadata": {
        "colab": {
          "base_uri": "https://localhost:8080/"
        },
        "id": "YV82CTDsC_0o",
        "outputId": "c61d95eb-59e2-486b-9cee-fe525708080c"
      },
      "execution_count": 14,
      "outputs": [
        {
          "output_type": "execute_result",
          "data": {
            "text/plain": [
              "{'daisy': 0, 'dandelion': 1, 'rose': 2, 'sunflower': 3, 'tulip': 4}"
            ]
          },
          "metadata": {},
          "execution_count": 14
        }
      ]
    },
    {
      "cell_type": "markdown",
      "source": [
        "# **Create Model**"
      ],
      "metadata": {
        "id": "Rc2Odg6aDBgi"
      }
    },
    {
      "cell_type": "code",
      "source": [
        "model=Sequential()"
      ],
      "metadata": {
        "id": "uHHvme6TDDXl"
      },
      "execution_count": 15,
      "outputs": []
    },
    {
      "cell_type": "markdown",
      "source": [
        "**Adding Layers (Convolution,MaxPooling,Flatten,Dense-(Hidden Layers),Output)**"
      ],
      "metadata": {
        "id": "GdVcEu_eDGLh"
      }
    },
    {
      "cell_type": "markdown",
      "source": [
        "Convolution Layer"
      ],
      "metadata": {
        "id": "2LHHQEcnDLw_"
      }
    },
    {
      "cell_type": "code",
      "source": [
        "model.add(Convolution2D(32,(3,3),input_shape=(64,64,3),activation='relu'))"
      ],
      "metadata": {
        "id": "kJ0A6JkMDI8y"
      },
      "execution_count": 16,
      "outputs": []
    },
    {
      "cell_type": "markdown",
      "source": [
        "MaxPooling Layer"
      ],
      "metadata": {
        "id": "QjQqU0B6DN51"
      }
    },
    {
      "cell_type": "code",
      "source": [
        "model.add(MaxPooling2D(pool_size=(2,2)))"
      ],
      "metadata": {
        "id": "Pwl9IemADNie"
      },
      "execution_count": 17,
      "outputs": []
    },
    {
      "cell_type": "markdown",
      "source": [
        "**Flatten Layer**"
      ],
      "metadata": {
        "id": "opludvWjDQ7X"
      }
    },
    {
      "cell_type": "code",
      "source": [
        "model.add(Flatten())"
      ],
      "metadata": {
        "id": "OK1jfG5-DWz-"
      },
      "execution_count": 18,
      "outputs": []
    },
    {
      "cell_type": "markdown",
      "source": [
        "Dense (Hidden Layer)"
      ],
      "metadata": {
        "id": "3SQLGNgjDbGX"
      }
    },
    {
      "cell_type": "code",
      "source": [
        "model.add(Dense(units=300,kernel_initializer=\"random_uniform\",activation=\"relu\"))\n",
        "model.add(Dense(units=150,kernel_initializer=\"random_uniform\",activation=\"relu\"))\n"
      ],
      "metadata": {
        "id": "K3DnlRNpDZz5"
      },
      "execution_count": 19,
      "outputs": []
    },
    {
      "cell_type": "markdown",
      "source": [
        "Output Layer"
      ],
      "metadata": {
        "id": "CMV7x1UODgLe"
      }
    },
    {
      "cell_type": "code",
      "source": [
        "model.add(Dense(units=5,kernel_initializer=\"random_uniform\",activation=\"softmax\"))"
      ],
      "metadata": {
        "id": "MmPMJWgsDe3e"
      },
      "execution_count": 20,
      "outputs": []
    },
    {
      "cell_type": "code",
      "source": [
        "model.summary()"
      ],
      "metadata": {
        "colab": {
          "base_uri": "https://localhost:8080/"
        },
        "id": "ixC-2jEIDj9h",
        "outputId": "a065c0f7-2636-46d2-b399-648045c4d79b"
      },
      "execution_count": 21,
      "outputs": [
        {
          "output_type": "stream",
          "name": "stdout",
          "text": [
            "Model: \"sequential\"\n",
            "_________________________________________________________________\n",
            " Layer (type)                Output Shape              Param #   \n",
            "=================================================================\n",
            " conv2d (Conv2D)             (None, 62, 62, 32)        896       \n",
            "                                                                 \n",
            " max_pooling2d (MaxPooling2D  (None, 31, 31, 32)       0         \n",
            " )                                                               \n",
            "                                                                 \n",
            " flatten (Flatten)           (None, 30752)             0         \n",
            "                                                                 \n",
            " dense (Dense)               (None, 300)               9225900   \n",
            "                                                                 \n",
            " dense_1 (Dense)             (None, 150)               45150     \n",
            "                                                                 \n",
            " dense_2 (Dense)             (None, 5)                 755       \n",
            "                                                                 \n",
            "=================================================================\n",
            "Total params: 9,272,701\n",
            "Trainable params: 9,272,701\n",
            "Non-trainable params: 0\n",
            "_________________________________________________________________\n"
          ]
        }
      ]
    },
    {
      "cell_type": "markdown",
      "source": [
        "# **Compile The Model**\n"
      ],
      "metadata": {
        "id": "JyYO4B80D6ci"
      }
    },
    {
      "cell_type": "code",
      "source": [
        "model.compile(loss=\"categorical_crossentropy\",optimizer=\"adam\",metrics=['accuracy'])"
      ],
      "metadata": {
        "id": "kWWbSHnmD6C8"
      },
      "execution_count": 22,
      "outputs": []
    },
    {
      "cell_type": "markdown",
      "source": [
        "# **Fit The Model**"
      ],
      "metadata": {
        "id": "LLT2uj6xEED6"
      }
    },
    {
      "cell_type": "code",
      "source": [
        "model.fit(x_train, epochs = 5, validation_data=x_test, steps_per_epoch=len(x_train), validation_steps=len(x_test))"
      ],
      "metadata": {
        "colab": {
          "base_uri": "https://localhost:8080/"
        },
        "id": "bAECUBVyEGw1",
        "outputId": "65235ff2-4a3d-4ff3-d749-f5cf53ea7698"
      },
      "execution_count": 23,
      "outputs": [
        {
          "output_type": "stream",
          "name": "stdout",
          "text": [
            "Epoch 1/5\n",
            "135/135 [==============================] - 66s 485ms/step - loss: 1.2883 - accuracy: 0.4193 - val_loss: 1.1435 - val_accuracy: 0.5156\n",
            "Epoch 2/5\n",
            "135/135 [==============================] - 65s 479ms/step - loss: 1.1360 - accuracy: 0.5230 - val_loss: 1.0847 - val_accuracy: 0.5319\n",
            "Epoch 3/5\n",
            "135/135 [==============================] - 66s 489ms/step - loss: 1.0377 - accuracy: 0.5819 - val_loss: 0.9807 - val_accuracy: 0.6037\n",
            "Epoch 4/5\n",
            "135/135 [==============================] - 65s 478ms/step - loss: 0.9706 - accuracy: 0.6187 - val_loss: 0.9275 - val_accuracy: 0.6264\n",
            "Epoch 5/5\n",
            "135/135 [==============================] - 67s 496ms/step - loss: 0.9400 - accuracy: 0.6315 - val_loss: 0.9675 - val_accuracy: 0.6143\n"
          ]
        },
        {
          "output_type": "execute_result",
          "data": {
            "text/plain": [
              "<keras.callbacks.History at 0x7f4c2b941610>"
            ]
          },
          "metadata": {},
          "execution_count": 23
        }
      ]
    },
    {
      "cell_type": "markdown",
      "source": [
        "# **Save The Model**"
      ],
      "metadata": {
        "id": "MQNwstMeEtJZ"
      }
    },
    {
      "cell_type": "code",
      "source": [
        "model.save(\"flower.h5\")"
      ],
      "metadata": {
        "id": "aeEqtc8aEs5T"
      },
      "execution_count": 24,
      "outputs": []
    },
    {
      "cell_type": "markdown",
      "source": [
        "# **Test The Model**"
      ],
      "metadata": {
        "id": "opHm8fmcEw8T"
      }
    },
    {
      "cell_type": "code",
      "source": [
        "from tensorflow.keras.models import load_model\n",
        "from tensorflow.keras.preprocessing import image\n",
        "import numpy as np"
      ],
      "metadata": {
        "id": "7JsU_pirE1G3"
      },
      "execution_count": 25,
      "outputs": []
    },
    {
      "cell_type": "code",
      "source": [
        "model = load_model('flower.h5')\n",
        "img = image.load_img('/content/drive/MyDrive/flowers/daisy/14551098743_2842e7a004_n.jpg',target_size=(64,64))"
      ],
      "metadata": {
        "id": "jCTStqsME4PN"
      },
      "execution_count": 26,
      "outputs": []
    },
    {
      "cell_type": "code",
      "source": [
        "img"
      ],
      "metadata": {
        "colab": {
          "base_uri": "https://localhost:8080/",
          "height": 81
        },
        "id": "lGRoxP9WFUW6",
        "outputId": "ce0a6946-e59b-4c2d-e29f-861c11f18a70"
      },
      "execution_count": 27,
      "outputs": [
        {
          "output_type": "execute_result",
          "data": {
            "text/plain": [
              "<PIL.Image.Image image mode=RGB size=64x64 at 0x7F4C24357950>"
            ],
            "image/png": "[encoded data removed]"
          },
          "metadata": {},
          "execution_count": 27
        }
      ]
    },
    {
      "cell_type": "code",
      "source": [
        "x=image.img_to_array(img)"
      ],
      "metadata": {
        "id": "vH0O4c9MFXkh"
      },
      "execution_count": 28,
      "outputs": []
    },
    {
      "cell_type": "code",
      "source": [
        "x"
      ],
      "metadata": {
        "colab": {
          "base_uri": "https://localhost:8080/"
        },
        "id": "3muBQnfpFZe9",
        "outputId": "fe45a0dd-8ae6-4f5d-e3ed-58a2a4ec2814"
      },
      "execution_count": 29,
      "outputs": [
        {
          "output_type": "execute_result",
          "data": {
            "text/plain": [
              "array([[[235., 219., 219.],\n",
              "        [235., 230., 226.],\n",
              "        [236., 232., 229.],\n",
              "        ...,\n",
              "        [ 61.,  76.,  73.],\n",
              "        [ 32.,  73.,  57.],\n",
              "        [ 36.,  62.,  59.]],\n",
              "\n",
              "       [[234., 229., 226.],\n",
              "        [236., 234., 235.],\n",
              "        [238., 238., 238.],\n",
              "        ...,\n",
              "        [ 38.,  72.,  58.],\n",
              "        [ 39.,  76.,  42.],\n",
              "        [ 45.,  61.,  61.]],\n",
              "\n",
              "       [[234., 233., 231.],\n",
              "        [237., 237., 237.],\n",
              "        [238., 238., 238.],\n",
              "        ...,\n",
              "        [ 37.,  73.,  63.],\n",
              "        [ 46.,  81.,  57.],\n",
              "        [ 32.,  50.,  60.]],\n",
              "\n",
              "       ...,\n",
              "\n",
              "       [[ 80., 100.,  89.],\n",
              "        [206., 185., 168.],\n",
              "        [219., 127.,  14.],\n",
              "        ...,\n",
              "        [189., 185., 160.],\n",
              "        [ 40.,  73.,  62.],\n",
              "        [ 94., 135.,   3.]],\n",
              "\n",
              "       [[136., 108., 107.],\n",
              "        [194., 176., 174.],\n",
              "        [161., 145.,  67.],\n",
              "        ...,\n",
              "        [213., 191., 170.],\n",
              "        [211., 209., 196.],\n",
              "        [121., 133.,  61.]],\n",
              "\n",
              "       [[  4.,  59.,  54.],\n",
              "        [ 21.,  63.,  62.],\n",
              "        [135., 140., 133.],\n",
              "        ...,\n",
              "        [183., 185., 164.],\n",
              "        [198., 204., 176.],\n",
              "        [150., 145.,  64.]]], dtype=float32)"
            ]
          },
          "metadata": {},
          "execution_count": 29
        }
      ]
    },
    {
      "cell_type": "code",
      "source": [
        "x.shape"
      ],
      "metadata": {
        "colab": {
          "base_uri": "https://localhost:8080/"
        },
        "id": "TMebofvJFaGZ",
        "outputId": "17e3961f-7d9f-48dd-ab66-597845a771e8"
      },
      "execution_count": 30,
      "outputs": [
        {
          "output_type": "execute_result",
          "data": {
            "text/plain": [
              "(64, 64, 3)"
            ]
          },
          "metadata": {},
          "execution_count": 30
        }
      ]
    },
    {
      "cell_type": "code",
      "source": [
        "x=np.expand_dims(x,axis=0)"
      ],
      "metadata": {
        "id": "AlB56BruFcmU"
      },
      "execution_count": 31,
      "outputs": []
    },
    {
      "cell_type": "code",
      "source": [
        "y=np.argmax(model.predict(x),axis=0)"
      ],
      "metadata": {
        "id": "zYBtk748Fd4e"
      },
      "execution_count": 32,
      "outputs": []
    },
    {
      "cell_type": "code",
      "source": [
        "x_train.class_indices"
      ],
      "metadata": {
        "colab": {
          "base_uri": "https://localhost:8080/"
        },
        "id": "Ptp_-RUeFe_w",
        "outputId": "8e9a9d7a-88fe-4e2c-9511-2a13b64b39ca"
      },
      "execution_count": 33,
      "outputs": [
        {
          "output_type": "execute_result",
          "data": {
            "text/plain": [
              "{'daisy': 0, 'dandelion': 1, 'rose': 2, 'sunflower': 3, 'tulip': 4}"
            ]
          },
          "metadata": {},
          "execution_count": 33
        }
      ]
    },
    {
      "cell_type": "code",
      "source": [
        "array=['daisy','dandelion','rose','sunflower']"
      ],
      "metadata": {
        "id": "4xJkwxutFiXc"
      },
      "execution_count": 34,
      "outputs": []
    },
    {
      "cell_type": "code",
      "source": [
        "array[y[0]]"
      ],
      "metadata": {
        "colab": {
          "base_uri": "https://localhost:8080/",
          "height": 36
        },
        "id": "qZwGDOJpFjrY",
        "outputId": "e49a1403-ec8c-4b5c-aa19-aecd9cdc07d6"
      },
      "execution_count": 43,
      "outputs": [
        {
          "output_type": "execute_result",
          "data": {
            "text/plain": [
              "'daisy'"
            ],
            "application/vnd.google.colaboratory.intrinsic+json": {
              "type": "string"
            }
          },
          "metadata": {},
          "execution_count": 43
        }
      ]
    },
    {
      "cell_type": "code",
      "source": [
        "img=image.load_img(r\"/content/drive/MyDrive/flowers/sunflower/9479261399_cebfbff670_n.jpg\", target_size=(64,64))\n",
        "x=image.img_to_array(img)\n",
        "x=np.expand_dims(x,axis=0)\n",
        "y=np.argmax(model.predict(x),axis=1)\n",
        "array=['daisy','dandelion','rose','sunflower']\n",
        "array[y[0]]"
      ],
      "metadata": {
        "colab": {
          "base_uri": "https://localhost:8080/",
          "height": 36
        },
        "id": "xTUeRZiLFm6T",
        "outputId": "b46f1a17-2792-4c9b-fcb6-b69ab195c70d"
      },
      "execution_count": 48,
      "outputs": [
        {
          "output_type": "execute_result",
          "data": {
            "text/plain": [
              "'sunflower'"
            ],
            "application/vnd.google.colaboratory.intrinsic+json": {
              "type": "string"
            }
          },
          "metadata": {},
          "execution_count": 48
        }
      ]
    },
    {
      "cell_type": "code",
      "source": [
        "img"
      ],
      "metadata": {
        "colab": {
          "base_uri": "https://localhost:8080/",
          "height": 81
        },
        "id": "b8thDqt_FuDU",
        "outputId": "97b76566-cd58-408d-888c-3efc45573020"
      },
      "execution_count": 49,
      "outputs": [
        {
          "output_type": "execute_result",
          "data": {
            "text/plain": [
              "<PIL.Image.Image image mode=RGB size=64x64 at 0x7F4C242CBF90>"
            ],
            "image/png": "[encoded data removed]"
          },
          "metadata": {},
          "execution_count": 49
        }
      ]
    },
    {
      "cell_type": "code",
      "source": [
        "img=image.load_img(r\"/content/drive/MyDrive/flowers/daisy/9094631844_1a6abca29e.jpg\", target_size=(64,64))\n",
        "x=image.img_to_array(img)\n",
        "x=np.expand_dims(x,axis=0)\n",
        "y=np.argmax(model.predict(x),axis=1)\n",
        "array=['daisy','rose','dandelion','sunflower']\n",
        "array[y[0]]"
      ],
      "metadata": {
        "colab": {
          "base_uri": "https://localhost:8080/",
          "height": 36
        },
        "id": "q4gpvkZPFupH",
        "outputId": "cf93e072-8978-4d33-82e6-b148d03131bf"
      },
      "execution_count": 55,
      "outputs": [
        {
          "output_type": "execute_result",
          "data": {
            "text/plain": [
              "'daisy'"
            ],
            "application/vnd.google.colaboratory.intrinsic+json": {
              "type": "string"
            }
          },
          "metadata": {},
          "execution_count": 55
        }
      ]
    },
    {
      "cell_type": "code",
      "source": [
        "img"
      ],
      "metadata": {
        "colab": {
          "base_uri": "https://localhost:8080/",
          "height": 81
        },
        "id": "oHr_bYanGzrA",
        "outputId": "64d91829-9d50-4ae2-c26c-55b04152eb1a"
      },
      "execution_count": 53,
      "outputs": [
        {
          "output_type": "execute_result",
          "data": {
            "text/plain": [
              "<PIL.Image.Image image mode=RGB size=64x64 at 0x7F4C242083D0>"
            ],
            "image/png": "[encoded data removed]"
          },
          "metadata": {},
          "execution_count": 53
        }
      ]
    }
  ]
}